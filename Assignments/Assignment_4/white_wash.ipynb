{
 "cells": [
  {
   "cell_type": "markdown",
   "metadata": {},
   "source": [
    "#Assignemt 4: White Wash\n",
    "___"
   ]
  },
  {
   "cell_type": "code",
   "execution_count": 19,
   "metadata": {
    "collapsed": false
   },
   "outputs": [
    {
     "name": "stdout",
     "output_type": "stream",
     "text": [
      "[[0, 1, 0], [1, 0, 0], [0, 0, 1]]\n",
      "[[0.5, 0.5, 1.0], [0.5, 0.5, 1.0], [0.5, 0.5, 1.0]]\n"
     ]
    }
   ],
   "source": [
    "def white_wash (map1):\n",
    "    map2 = [[1,1,1]]*len(map1)\n",
    "    for i in range(len(map1)):\n",
    "        for c in range(len(map1[i])):\n",
    "            map2[i][c] = (map1[i][c]+1)/2\n",
    "    return map2\n",
    "\n",
    "list1 = [[0,1,0],[1,0,0],[0,0,1]]\n",
    "list2 = white_wash(list1)\n",
    "print(list1)\n",
    "print (list2)\n"
   ]
  },
  {
   "cell_type": "code",
   "execution_count": null,
   "metadata": {
    "collapsed": true
   },
   "outputs": [],
   "source": []
  },
  {
   "cell_type": "code",
   "execution_count": null,
   "metadata": {
    "collapsed": true
   },
   "outputs": [],
   "source": []
  }
 ],
 "metadata": {
  "kernelspec": {
   "display_name": "Python 3",
   "language": "python",
   "name": "python3"
  },
  "language_info": {
   "codemirror_mode": {
    "name": "ipython",
    "version": 3
   },
   "file_extension": ".py",
   "mimetype": "text/x-python",
   "name": "python",
   "nbconvert_exporter": "python",
   "pygments_lexer": "ipython3",
   "version": "3.4.3"
  }
 },
 "nbformat": 4,
 "nbformat_minor": 0
}
