{
 "cells": [
  {
   "cell_type": "markdown",
   "metadata": {},
   "source": [
    "#Average Temperatures\n",
    "___"
   ]
  },
  {
   "cell_type": "code",
   "execution_count": 33,
   "metadata": {
    "collapsed": false
   },
   "outputs": [],
   "source": [
    "import matplotlib.pyplot as plt\n",
    "from matplotlib.legend_handler import HandlerLine2D\n",
    "\n",
    "with open('montreal_temperature_2012.dat') as f:\n",
    "    mon_temp = f.readlines()\n",
    "with open('vancouver_temperature_2012.dat') as f:\n",
    "    van_temp = f.readlines()\n",
    "with open('toronto_temperature_2012.dat') as f:\n",
    "    tor_temp = f.readlines()\n",
    "\n",
    "months = range(1,13)\n",
    "    \n",
    "line1,=plt.plot(months, mon_temp, color='red', linestyle=':', label='Montreal')\n",
    "line2,=plt.plot(months, tor_temp, color='blue', linestyle='-', label='Toronto')\n",
    "line3,=plt.plot(months, van_temp, color='green', linestyle='--', label='Vancouver')\n",
    "\n",
    "first_legeend = plt.legend(handles=[line1,line2,line3], loc=2)\n",
    "plt.xlabel(\"Month\")\n",
    "plt.ylabel(\"Average Temperature (Celcius)\")\n",
    "plt.axis([1,12,-8,27])\n",
    "plt.xticks(months,['Jan','Feb','Mar','Apl','May','Jun','Jul','Aug','Sep','Oct','Nov','Dec'])\n",
    "plt.title(\"2012 average monthly temperatures (100554214)\")\n",
    "\n",
    "plt.show()"
   ]
  },
  {
   "cell_type": "code",
   "execution_count": null,
   "metadata": {
    "collapsed": true
   },
   "outputs": [],
   "source": []
  },
  {
   "cell_type": "code",
   "execution_count": null,
   "metadata": {
    "collapsed": true
   },
   "outputs": [],
   "source": []
  },
  {
   "cell_type": "code",
   "execution_count": null,
   "metadata": {
    "collapsed": true
   },
   "outputs": [],
   "source": []
  }
 ],
 "metadata": {
  "kernelspec": {
   "display_name": "Python 3",
   "language": "python",
   "name": "python3"
  },
  "language_info": {
   "codemirror_mode": {
    "name": "ipython",
    "version": 3
   },
   "file_extension": ".py",
   "mimetype": "text/x-python",
   "name": "python",
   "nbconvert_exporter": "python",
   "pygments_lexer": "ipython3",
   "version": "3.4.3"
  }
 },
 "nbformat": 4,
 "nbformat_minor": 0
}
