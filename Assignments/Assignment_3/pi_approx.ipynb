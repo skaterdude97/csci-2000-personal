{
 "cells": [
  {
   "cell_type": "markdown",
   "metadata": {},
   "source": [
    "#Approximating Pi\n",
    "___"
   ]
  },
  {
   "cell_type": "code",
   "execution_count": 68,
   "metadata": {
    "collapsed": false
   },
   "outputs": [
    {
     "name": "stdout",
     "output_type": "stream",
     "text": [
      "where n =   10 ,\t\t rho_n = 3.04183961893\n",
      "where n =   10 ,\t\t tau_n = 3.04936163598\n",
      "where n =   10 ,\t\t mu_n  = 3.14138462247\n",
      "where n =   100 ,\t\t rho_n = 3.13159290356\n",
      "where n =   100 ,\t\t tau_n = 3.13207653181\n",
      "where n =   100 ,\t\t mu_n  = 3.14159241531\n",
      "where n =   1000 ,\t\t rho_n = 3.14059265384\n",
      "where n =   1000 ,\t\t tau_n = 3.14063805621\n",
      "where n =   1000 ,\t\t mu_n  = 3.14159265335\n",
      "where n =   10000 ,\t\t rho_n = 3.14149265359\n",
      "where n =   10000 ,\t\t tau_n = 3.14149716395\n",
      "where n =   10000 ,\t\t mu_n  = 3.14159265359\n",
      "where n =   100000 ,\t\t rho_n = 3.14158265359\n",
      "where n =   100000 ,\t\t tau_n = 3.14158310433\n",
      "where n =   100000 ,\t\t mu_n  = 3.14159265359\n",
      "where n =   1000000 ,\t\t rho_n = 3.14159165359\n",
      "where n =   1000000 ,\t\t tau_n = 3.14159169866\n",
      "where n =   1000000 ,\t\t mu_n  = 3.14159265359\n"
     ]
    }
   ],
   "source": [
    "for i in range(6):\n",
    "    \n",
    "    rho_n = 0\n",
    "    tau_n = 0\n",
    "    mu_n = 0\n",
    "    \n",
    "    for n in range (10**(i+1)):\n",
    "        \n",
    "        denom = (2*(n+1)-1)\n",
    "        \n",
    "        if (n%2==0):\n",
    "            rho_n = rho_n + 1/denom\n",
    "        else:\n",
    "            rho_n = rho_n + -1/denom\n",
    "            \n",
    "        tau_n = tau_n + 1/(n+1)**2\n",
    "        mu_n = mu_n +1/(n+1)**4\n",
    "        \n",
    "    rho_n = rho_n * 4\n",
    "    tau_n = (6*tau_n)**(1/2)\n",
    "    mu_n = (90*mu_n)**(1/4)\n",
    "    \n",
    "    print(\"where n =  \", n+1, \",\\t\\t rho_n = {:.11f}\".format(rho_n))\n",
    "    print(\"where n =  \", n+1, \",\\t\\t tau_n = {:.11f}\".format(tau_n))\n",
    "    print(\"where n =  \", n+1, \",\\t\\t mu_n  = {:.11f}\".format(mu_n))"
   ]
  },
  {
   "cell_type": "code",
   "execution_count": null,
   "metadata": {
    "collapsed": true
   },
   "outputs": [],
   "source": []
  },
  {
   "cell_type": "code",
   "execution_count": null,
   "metadata": {
    "collapsed": true
   },
   "outputs": [],
   "source": []
  },
  {
   "cell_type": "code",
   "execution_count": null,
   "metadata": {
    "collapsed": true
   },
   "outputs": [],
   "source": []
  },
  {
   "cell_type": "code",
   "execution_count": null,
   "metadata": {
    "collapsed": true
   },
   "outputs": [],
   "source": []
  },
  {
   "cell_type": "code",
   "execution_count": null,
   "metadata": {
    "collapsed": true
   },
   "outputs": [],
   "source": []
  },
  {
   "cell_type": "code",
   "execution_count": null,
   "metadata": {
    "collapsed": true
   },
   "outputs": [],
   "source": []
  },
  {
   "cell_type": "code",
   "execution_count": null,
   "metadata": {
    "collapsed": true
   },
   "outputs": [],
   "source": []
  },
  {
   "cell_type": "code",
   "execution_count": null,
   "metadata": {
    "collapsed": true
   },
   "outputs": [],
   "source": []
  }
 ],
 "metadata": {
  "kernelspec": {
   "display_name": "Python 3",
   "language": "python",
   "name": "python3"
  },
  "language_info": {
   "codemirror_mode": {
    "name": "ipython",
    "version": 3
   },
   "file_extension": ".py",
   "mimetype": "text/x-python",
   "name": "python",
   "nbconvert_exporter": "python",
   "pygments_lexer": "ipython3",
   "version": "3.4.3"
  }
 },
 "nbformat": 4,
 "nbformat_minor": 0
}
