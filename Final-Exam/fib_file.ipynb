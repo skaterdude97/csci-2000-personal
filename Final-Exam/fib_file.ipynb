{
 "cells": [
  {
   "cell_type": "code",
   "execution_count": 38,
   "metadata": {
    "collapsed": false
   },
   "outputs": [],
   "source": [
    "def fibfile(n,fname):\n",
    "    fout = open(fname,\"a\")\n",
    "    line = str(n)\n",
    "    line += ' '*(12-len(line))\n",
    "    if n == 0:\n",
    "        fout.write(\"n\" + ' '*11 + 'F_n' + ' '*9)\n",
    "        fout.write(line + '0' + ' '*11)\n",
    "        return(0,0)\n",
    "    if n == 1:\n",
    "        fout.write(line + '1' + ' '*11)\n",
    "        return (1,0);\n",
    "    \n",
    "    fout.close()\n",
    "    return ()\n",
    "    \n",
    "    \n",
    "fibfile(12,'fib.txt')\n",
    "    "
   ]
  },
  {
   "cell_type": "code",
   "execution_count": null,
   "metadata": {
    "collapsed": true
   },
   "outputs": [],
   "source": []
  }
 ],
 "metadata": {
  "kernelspec": {
   "display_name": "Python 3",
   "language": "python",
   "name": "python3"
  },
  "language_info": {
   "codemirror_mode": {
    "name": "ipython",
    "version": 3
   },
   "file_extension": ".py",
   "mimetype": "text/x-python",
   "name": "python",
   "nbconvert_exporter": "python",
   "pygments_lexer": "ipython3",
   "version": "3.4.3"
  }
 },
 "nbformat": 4,
 "nbformat_minor": 0
}
