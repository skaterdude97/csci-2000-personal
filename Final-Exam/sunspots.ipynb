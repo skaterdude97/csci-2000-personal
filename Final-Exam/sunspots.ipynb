{
 "cells": [
  {
   "cell_type": "code",
   "execution_count": 46,
   "metadata": {
    "collapsed": false
   },
   "outputs": [
    {
     "name": "stdout",
     "output_type": "stream",
     "text": [
      "The most reacent sunspot observations were on 2015-5-31.\n",
      "Statistics of daily sunspot observations (1818-present):\n",
      "Mean: 51.3102601797\n",
      "Median: 37.0\n",
      "Standard deviation: 51.1585549493\n"
     ]
    },
    {
     "data": {
      "image/png": "[encoded data removed]",
      "text/plain": [
       "<matplotlib.figure.Figure at 0x7f06d664b2b0>"
      ]
     },
     "metadata": {},
     "output_type": "display_data"
    }
   ],
   "source": [
    "# %matplotlib inline\n",
    "import numpy as np\n",
    "import math\n",
    "import matplotlib.pyplot as plt\n",
    "\n",
    "data = np.genfromtxt(\"ISSN_D_tot.csv\", delimiter=\",\")\n",
    "\n",
    "print(\"The most reacent sunspot observations were on\",  str(int(data[-1][0])) +\"-\"+str(int(data[-1][1]))+\"-\"+str(int(data[-1][2]))+\".\")\n",
    "\n",
    "print(\"Statistics of daily sunspot observations (1818-present):\")\n",
    "\n",
    "\n",
    "lst = []\n",
    "sum = 0\n",
    "\n",
    "for i in data:\n",
    "    lst.append(i[4])\n",
    "    sum+=i[4]\n",
    "    \n",
    "mean = sum / len(lst)\n",
    "lst.sort()\n",
    "arr = np.array(lst)\n",
    "median= lst[math.floor(len(lst)/2)]\n",
    "std = arr.std();\n",
    "\n",
    "\n",
    "print(\"Mean:\", mean)\n",
    "print(\"Median:\", median)\n",
    "print(\"Standard deviation:\", std)\n",
    "\n",
    "x=[]\n",
    "y=[]\n",
    "\n",
    "for i in data:\n",
    "    x.append(i[3]*100-data[1][3]*100)\n",
    "    y.append(i[4])\n",
    "\n",
    "\n",
    "plt.plot(x,y, color=\"cyan\")\n",
    "\n",
    "meanlist = []\n",
    "\n",
    "for i in range(len(x)):\n",
    "    meanlist.append(mean)\n",
    "\n",
    "plt.plot(x,meanlist,color='blue' )\n",
    "\n",
    "medianlist = []\n",
    "\n",
    "for i in range(len(x)):\n",
    "    medianlist.append(median)\n",
    "\n",
    "plt.plot(x,medianlist,color='black' )\n",
    "\n",
    "stdlist = []\n",
    "\n",
    "for i in range(len(x)):\n",
    "    stdlist.append(mean-std)\n",
    "\n",
    "plt.plot(x,stdlist,color='magenta' )\n",
    "\n",
    "stdlist.clear()\n",
    "\n",
    "for i in range(len(x)):\n",
    "    stdlist.append(mean+std)\n",
    "\n",
    "plt.plot(x,stdlist,color='magenta' )\n",
    "\n",
    "plt.xlim(x[0],x[-1])\n",
    "         \n",
    "plt.title(\"Daily sunspot observations 1818 to 2014\")\n",
    "plt.savefig('sunspot_plot.png')\n",
    "\n",
    "plt.show()\n",
    "\n",
    "\n",
    "\n"
   ]
  },
  {
   "cell_type": "code",
   "execution_count": null,
   "metadata": {
    "collapsed": true
   },
   "outputs": [],
   "source": []
  },
  {
   "cell_type": "code",
   "execution_count": null,
   "metadata": {
    "collapsed": false
   },
   "outputs": [],
   "source": []
  },
  {
   "cell_type": "code",
   "execution_count": null,
   "metadata": {
    "collapsed": true
   },
   "outputs": [],
   "source": []
  }
 ],
 "metadata": {
  "kernelspec": {
   "display_name": "Python 3",
   "language": "python",
   "name": "python3"
  },
  "language_info": {
   "codemirror_mode": {
    "name": "ipython",
    "version": 3
   },
   "file_extension": ".py",
   "mimetype": "text/x-python",
   "name": "python",
   "nbconvert_exporter": "python",
   "pygments_lexer": "ipython3",
   "version": "3.4.3"
  }
 },
 "nbformat": 4,
 "nbformat_minor": 0
}
